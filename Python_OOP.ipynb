{
  "nbformat": 4,
  "nbformat_minor": 0,
  "metadata": {
    "colab": {
      "provenance": []
    },
    "kernelspec": {
      "name": "python3",
      "display_name": "Python 3"
    },
    "language_info": {
      "name": "python"
    }
  },
  "cells": [
    {
      "cell_type": "markdown",
      "source": [
        "# **Python OOPs Questions**"
      ],
      "metadata": {
        "id": "UhRLtAt_HA65"
      }
    },
    {
      "cell_type": "markdown",
      "source": [
        "#Theoretical Questions"
      ],
      "metadata": {
        "id": "loaQA_rNHc60"
      }
    },
    {
      "cell_type": "markdown",
      "source": [
        "1. What is Object-Oriented Programming (OOP)?\n",
        "   - Object-Oriented Programming (OOP) is a programming paradigm where software is designed and organized around objects rather than just functions or logic.\n",
        "\n",
        "    In OOP, an object is a combination of:\n",
        "\n",
        "    - Data (called attributes or fields)\n",
        "    - Behaviour (called methods, which operate on the data)\n",
        "\n",
        "    The idea is to model real-world things as software objects.\n",
        "\n",
        "2. What is a class in OOP?\n",
        "   - In Object-Oriented Programming (OOP), a class is a blueprint or template for creating objects.\n",
        "\n",
        "    It defines:\n",
        "    - Attributes (data or properties that objects will have)\n",
        "    - Methods (functions that define the object’s behavior)\n",
        "    \n",
        "    It can be thought of a class like an architect’s blueprint:\n",
        "    - The blueprint itself is not the building (class ≠ object).\n",
        "    - It just describes how the building should look and work.\n",
        "    - From the blueprint, many actual buildings can be created (objects).\n",
        "\n",
        "3. What is an object in OOP?\n",
        "   - In Object-Oriented Programming (OOP), an object is an instance of a class.\n",
        "     If a class is the blueprint, an object is the real, usable thing built from that blueprint.\n",
        "\n",
        "    Key points about objects:\n",
        "    - An object contains:\n",
        "      - Attributes → the data about the object.\n",
        "      - Methods → the actions the object can perform.\n",
        "    - You can create many objects from the same class, each with its own unique data.\n",
        "    - Objects are stored in memory and can interact with each other.\n",
        "\n",
        "4. What is the difference between abstraction and encapsulation?\n",
        "   - Abstraction and encapsulation are two core concepts in OOP that sound similar but serve different purposes.\n",
        "\n",
        "    i) Abstraction – Hiding implementation details\n",
        "\n",
        "      a) What it is: Showing only the essential features of an object and hiding the background details.\n",
        "       \n",
        "      b) Goal: Focus on what an object does, not how it does it.\n",
        "\n",
        "      c) How in OOP: Achieved using abstract classes or interfaces (in Python, you can use abstract base classes from abc module).\n",
        "\n",
        "      d) Example: When you press the start button in a car, you don’t know the internal wiring — you just know it starts the engine.\n",
        "    \n",
        "    ii) Encapsulation – Hiding data inside a container\n",
        "\n",
        "     a) What it is: Wrapping data (attributes) and methods (functions) into a single unit (class) and restricting direct access to some of the components of the object.\n",
        "\n",
        "     b) Goal: Protect the internal state of an object and control how it is accessed or modified.\n",
        "\n",
        "     c) How in OOP: Achieved using private/protected variables (in Python, _protected and __private naming).\n",
        "\n",
        "     d) Example: In a car, the speedometer value is encapsulated — you can see the speed, but you cannot directly change the value without driving.\n",
        "\n",
        "5. What are dunder methods in Python?\n",
        "   - In Python, dunder methods (short for “double underscore methods”), also called magic methods or special methods, are predefined methods with names that begin and end with double underscores (__method__).They are not meant to be called directly in most cases, but instead define how Python objects of a class should behave in built-in operations (like printing, iteration, arithmetic, comparisons, etc.).\n",
        "\n",
        "6. Explain the concept of inheritance in OOP.\n",
        "   - Inheritance is an Object-Oriented Programming (OOP) concept where a class (called the child class or derived class) can acquire properties and behaviors (attributes and methods) from another class (called the parent class or base class). It allows code reusability and helps create a natural hierarchy between classes.\n",
        "  \n",
        "  Key points:\n",
        "   - A base (parent) class contains common functionality.\n",
        "   - A derived (child) class inherits this functionality and can:\n",
        "     - Use it as is,\n",
        "     - Override it (provide its own implementation),\n",
        "     - Extend it (add new attributes/methods).\n",
        "\n",
        "7. What is polymorphism in OOP?\n",
        "   - In Object-Oriented Programming (OOP), polymorphism means the same function/method/operator can take different forms depending on the object that is using it. It allows objects of different classes to be treated through a common interface while each provides its own implementation.\n",
        "\n",
        "8. How is encapsulation achieved in Python?\n",
        "   - Encapsulation is one of the main principles of OOP. It means bundling data (attributes) and methods (functions) that operate on that data into a single unit (a class), and restricting direct access to some of the components of an object. This protects the internal state of an object and allows controlled access through methods (getters/setters).\n",
        "\n",
        "   Python does not have true private variables like some languages (Java, C++).Instead, it uses naming conventions and name mangling to achieve encapsulation.\n",
        "\n",
        "    1. Public Members: Accessible from anywhere.\n",
        "    2. Protected Members (_single_leading_underscore): Indicates internal use only. It is just a convention (still accessible, but discouraged).\n",
        "    3. Private Members (__double_leading_underscore): Triggers name mangling, making it harder to access attributes directly.\n",
        "\n",
        "9. What is a constructor in Python?\n",
        "   - A constructor in Python is a special method that is automatically called when an object of a class is created.\n",
        "     - Its main purpose is to initialize the attributes of the object.\n",
        "     - In Python, the constructor method is always named __init__.\n",
        "\n",
        "10. What are class and static methods in Python?\n",
        "    - Class Methods (@classmethod)\n",
        "      - Belong to the class itself, not to a specific object.\n",
        "      - Take cls as the first parameter (represents the class).\n",
        "      - Can access or modify class-level attributes but not instance-level attributes directly.\n",
        "\n",
        "11. What is mwthod overloading in OOP?\n",
        "    - In Object-Oriented Programming (OOP), method overloading is the ability to define multiple methods in the same class with the same name but different parameter lists (number of parameters, types of parameters, or both).\n",
        "     The main idea is that the method name remains the same, but the signature (method definition) changes, allowing the same method name to perform different tasks depending on the arguments passed.\n",
        "    \n",
        "     Key Points about Method Overloading:\n",
        "     - Same method name → multiple definitions.\n",
        "     - Different parameters → by type, number, or order.\n",
        "     - Return type can be different, but it alone does not determine overloading.\n",
        "     - It increases readability and flexibility in code.\n",
        "\n",
        "12. What is method overriding in OOP?\n",
        "    - In Object-Oriented Programming (OOP), method overriding happens when a subclass (child class) provides its own implementation of a method that is already defined in its superclass (parent class).\n",
        "\n",
        "     The method in the child class must have the same name, return type, and parameters as the method in the parent class, but its implementation is different.\n",
        "\n",
        "     Key Points about Method Overriding:\n",
        "     - Happens in inheritance (parent–child relationship).\n",
        "     - Method in child class must have the same signature as in the parent class.\n",
        "     - Allows runtime polymorphism → the method that gets executed is determined at runtime depending on the object type.\n",
        "     - Gives the child class the ability to modify or extend the behavior of the parent class method.\n",
        "\n",
        "13. What is a propertty decorator in Python?\n",
        "    - The property decorator in Python is used to define methods in a class that can be accessed like attributes (without using parentheses ()). It is part of Python’s built-in way to implement encapsulation by controlling how attributes are accessed, modified, or deleted.\n",
        "\n",
        "     Uses of property decorator:\n",
        "     - To make a method behave like an attribute.\n",
        "     - To implement getter, setter, and deleter for attributes in a clean way.\n",
        "     - To add validation or computed logic when accessing or modifying attributes.\n",
        "\n",
        "14. Why is polymorphism important in OOP?\n",
        "    - In OOP, polymorphism allows the same method or operator to behave differently based on the object or data type it is applied to.\n",
        "\n",
        "     Polymorphism is one of the four pillars of OOP (alongside Encapsulation, Inheritance, and Abstraction) and is important because it provides:\n",
        "     \n",
        "     i) Code Reusability:\n",
        "        - The same method name can be reused across different classes with different implementations.\n",
        "        - Example: sound() in Dog, Cat, and Bird → all have different behaviors, but share the same interface.\n",
        "     \n",
        "     ii) Flexibility & Extensibility:\n",
        "         - You can add new classes without changing existing code.\n",
        "         - Example: If you add a Cow class with its own sound() method, existing code that works with Animal objects still works.\n",
        "\n",
        "     iii) Readability & Clean Code:\n",
        "          -Polymorphism avoids writing multiple method names for similar actions.\n",
        "          - Example: Instead of drawCircle(), drawSquare(), drawTriangle(), we just use draw() and let polymorphism handle the specifics.\n",
        "          \n",
        "      iv) Runtime Decision Making (Dynamic Binding)\n",
        "          - With method overriding, the program decides at runtime which method to call depending on the object type.\n",
        "          - This is the basis of runtime polymorphism (important for frameworks, libraries, and real-world applications).\n",
        "\n",
        "15. What is an abstract class in python?\n",
        "    - An abstract class in Python is a class that cannot be instantiated directly (you cannot create objects from it).\n",
        "\n",
        "      - It is meant to be a blueprint for other classes.\n",
        "      - It may contain abstract methods (methods declared but not implemented).\n",
        "      - Subclasses must provide their own implementation for those abstract methods.\n",
        "      - Abstract classes help enforce a common interface across all subclasses.\n",
        "\n",
        "16. What are the advantages of OOP?\n",
        "    - Advantages of OOP are:\n",
        "       - Modularity\n",
        "       - Reusability\n",
        "       - Maintainability\n",
        "       - Better mapping to real-world domains through classes/objects.\n",
        "\n",
        "17. What is the difference between a class variable and instance variable?\n",
        "    - Instance variable:\n",
        "      - Belongs to an object (instance) of the class.\n",
        "      - Each object has its own copy of the variable.\n",
        "      - Defined inside the constructor (__init__) using self.\n",
        "      - Changing it affects only that particular object.\n",
        "    \n",
        "    - Class variable:\n",
        "      - Shared across all objects of the class.\n",
        "      - Defined inside the class but outside methods.\n",
        "      - All instances access the same copy of the variable.\n",
        "      - If updated using the class name, it changes for all objects.\n",
        "\n",
        "18. What is multiple inheritance in python?\n",
        "    - Multiple inheritance means that a class can inherit from more than one parent class. This allows the child class to combine features (methods/attributes) from multiple parents.\n",
        "\n",
        "19. Explain the purpose of \"__str__\" and \"__repr__\" methods in python.\n",
        "    1.  __str__ method\n",
        "     - Purpose: Defines a human-readable string representation of the object.\n",
        "     - Used when you call str(obj) or print(obj).\n",
        "     - Goal: Make the output of the object user-friendly.\n",
        "\n",
        "    2. __repr__ method\n",
        "      - Purpose: Defines the official string representation of the object.\n",
        "      - Used when you call repr(obj) or just type the object in the interpreter.\n",
        "      - Goal: Should be unambiguous, often used for debugging and logging.\n",
        "      - Ideally, it should return a string that, if possible, can be used to recreate the object.\n",
        "\n",
        "20. What is the significance of the 'super()' function in python?\n",
        "    - The super() function is used to call a method from the parent (superclass) inside a child class. It helps in reusing code and maintaining the proper method resolution order (MRO) when multiple inheritance is involved.\n",
        "    \n",
        "    Significance of super() function:\n",
        "    1. Access Parent Methods Easily\n",
        "       - Instead of directly calling ParentClass.method(self, ...), we use super().method(...).\n",
        "       - This makes the code more flexible (you don’t have to hardcode parent class names).\n",
        "\n",
        "    2. Supports Multiple Inheritance:\n",
        "       - In multiple inheritance, super() respects the MRO (Method Resolution Order) and ensures methods are called in the correct order.\n",
        "       - This prevents calling the wrong parent or skipping others.\n",
        "\n",
        "    3. Avoids Code Duplication:\n",
        "       - Lets subclasses extend or modify parent class behavior without rewriting code.\n",
        "\n",
        "21. What is the significance of the __del__ method in python?\n",
        "    - __del__ is also called a destructor in Python.\n",
        "     - It is a special method that is automatically called when an object is about to be destroyed (i.e., when there are no more references to it).\n",
        "     - Its main purpose is to allow the object to clean up resources before being removed from memory.\n",
        "\n",
        "     Significance of __del__:\n",
        "      1. Resource Management\n",
        "         - Useful for closing files, network connections, or releasing other external resources.\n",
        "\n",
        "      2. Automatic Cleanup\n",
        "         - Python’s garbage collector automatically destroys objects that are no longer in use, and __del__ lets you define cleanup code.\n",
        "\n",
        "      3. Debugging or Logging\n",
        "         - You can add logs in __del__ to track object deletion (useful in memory management debugging).\n",
        "\n",
        "22. What is the difference between @staticmethod and @classmethod in python?\n",
        "    - @staticmethod\n",
        "       - Belongs to the class, but does not have access to the class (cls) or instance (self).\n",
        "       - Acts like a regular function inside a class.\n",
        "       - Cannot modify object or class state.\n",
        "       - Called on the class or instance.\n",
        "      @staticmethod is used when the method does not need access to class or instance.\n",
        "    \n",
        "    - @classmethod\n",
        "       - Belongs to the class and receives the class itself (cls) as the first argument.\n",
        "       - Can access/modify class-level attributes, but not instance attributes.\n",
        "       - Called on the class or instance, but always gets the class reference.\n",
        "      \n",
        "23. How does polymorphism work in python with inheritance?\n",
        "    - In Python, polymorphism allows a single interface (method name) to work with different types of objects. When combined with inheritance, it allows a child class to override a method of its parent class, and the same method call behaves differently depending on the object. This is also called runtime polymorphism or method overriding.\n",
        "\n",
        "    How It Works:\n",
        "     - Python uses dynamic dispatch to determine which method to call at runtime.\n",
        "     - This allows the same code to work with objects of different subclasses.\n",
        "     - Makes code flexible and extensible — new subclasses automatically work without changing the existing code.\n",
        "\n",
        "24. What is method chaining in python OOP?\n",
        "    - Method chaining is a way to call multiple methods sequentially on the same object by returning self from each method, making code cleaner, readable, and fluent.\n",
        "\n",
        "     Method Chaining:\n",
        "     - Makes code concise and readable.\n",
        "     - Avoids writing multiple lines of object method calls.\n",
        "     - Helps implement a fluent interface where operations are performed in a logical sequence.\n",
        "\n",
        "25. What is the purpose of the __call__ method in python?\n",
        "    - __call__ is a special method that allows an object of a class to be called like a function. If a class defines __call__, you can use the object as if it were a regular function, and __call__ will be executed.\n",
        "\n",
        "     Purpose of __call__\n",
        "      1. Make objects behave like functions\n",
        "         - Useful in cases like callbacks, decorators, or function objects (functors).\n",
        "\n",
        "      2. Encapsulate behavior with state\n",
        "         - Unlike normal functions, objects can store state and still be callable.\n",
        "\n",
        "      3. Clean syntax\n",
        "         - Avoids defining separate functions; the object itself acts as a function."
      ],
      "metadata": {
        "id": "rRl6bLmdHidf"
      }
    },
    {
      "cell_type": "markdown",
      "source": [
        "#Practical Questions"
      ],
      "metadata": {
        "id": "GHIRfbnK6-qi"
      }
    },
    {
      "cell_type": "code",
      "execution_count": null,
      "metadata": {
        "id": "v9cWOS1NG66s",
        "colab": {
          "base_uri": "https://localhost:8080/"
        },
        "outputId": "b2e6bea6-2809-43c6-db2e-f227e3c032fc"
      },
      "outputs": [
        {
          "output_type": "stream",
          "name": "stdout",
          "text": [
            "Bark!\n"
          ]
        }
      ],
      "source": [
        "#1.  Create a parent class Animal with a method speak() that prints a generic message. Create a child class Dog that overrides the speak() method to print \"Bark!\".\n",
        "\n",
        "class Animal:\n",
        "    def speak(self):\n",
        "        print(\"Some generic animal sound\")\n",
        "\n",
        "class Dog(Animal):\n",
        "    def speak(self):\n",
        "        print(\"Bark!\")\n",
        "\n",
        "Dog().speak()\n"
      ]
    },
    {
      "cell_type": "code",
      "source": [
        "#2. Write a program to create an abstract class Shape with a method area(). Derive classes Circle and Rectangle from it and implement the area() method in both.\n",
        "\n",
        "from abc import ABC, abstractmethod\n",
        "import math\n",
        "\n",
        "class Shape(ABC):\n",
        "    @abstractmethod\n",
        "    def area(self): ...\n",
        "\n",
        "class Circle(Shape):\n",
        "    def __init__(self, r): self.r = r\n",
        "    def area(self): return math.pi * self.r * self.r\n",
        "\n",
        "class Rectangle(Shape):\n",
        "    def __init__(self, w, h): self.w, self.h = w, h\n",
        "    def area(self): return self.w * self.h\n",
        "\n",
        "print(Circle(3).area(), Rectangle(4, 5).area())\n"
      ],
      "metadata": {
        "colab": {
          "base_uri": "https://localhost:8080/"
        },
        "id": "wBTrSLYLAcsS",
        "outputId": "b570e29d-dc23-458c-82bc-8513faeee9da"
      },
      "execution_count": null,
      "outputs": [
        {
          "output_type": "stream",
          "name": "stdout",
          "text": [
            "28.274333882308138 20\n"
          ]
        }
      ]
    },
    {
      "cell_type": "code",
      "source": [
        "#3.  Implement a multi-level inheritance scenario where a class Vehicle has an attribute type. Derive a class Car and further derive a class ElectricCar that adds a battery attribute.\n",
        "\n",
        "class Vehicle:\n",
        "    def __init__(self, type_): self.type = type_\n",
        "\n",
        "class Car(Vehicle):\n",
        "    def __init__(self, brand, type_=\"Car\"):\n",
        "        super().__init__(type_)\n",
        "        self.brand = brand\n",
        "\n",
        "class ElectricCar(Car):\n",
        "    def __init__(self, brand, battery_kwh):\n",
        "        super().__init__(brand)\n",
        "        self.battery_kwh = battery_kwh\n",
        "\n",
        "e = ElectricCar(\"Tesla\", 75)\n",
        "print(e.type, e.brand, e.battery_kwh)\n"
      ],
      "metadata": {
        "colab": {
          "base_uri": "https://localhost:8080/"
        },
        "id": "AXCTVzOSArr2",
        "outputId": "1a8910bd-ca47-4d66-bd18-117dd1683a04"
      },
      "execution_count": null,
      "outputs": [
        {
          "output_type": "stream",
          "name": "stdout",
          "text": [
            "Car Tesla 75\n"
          ]
        }
      ]
    },
    {
      "cell_type": "code",
      "source": [
        "#4.  Demonstrate polymorphism by creating a base class Bird with a method fly(). Create two derived classes Sparrow and Penguin that override the fly() method.\n",
        "\n",
        "class Bird:\n",
        "    def fly(self): print(\"Bird is flying...\")\n",
        "\n",
        "class Sparrow(Bird):\n",
        "    def fly(self): print(\"Sparrow flies swiftly.\")\n",
        "\n",
        "class Penguin(Bird):\n",
        "    def fly(self): print(\"Penguins can't fly, they waddle.\")\n",
        "\n",
        "for b in (Sparrow(), Penguin()):\n",
        "    b.fly()\n"
      ],
      "metadata": {
        "colab": {
          "base_uri": "https://localhost:8080/"
        },
        "id": "W9XYTQD4BmEI",
        "outputId": "706c88b3-1b87-4742-9edd-0aa8d4f9e313"
      },
      "execution_count": null,
      "outputs": [
        {
          "output_type": "stream",
          "name": "stdout",
          "text": [
            "Sparrow flies swiftly.\n",
            "Penguins can't fly, they waddle.\n"
          ]
        }
      ]
    },
    {
      "cell_type": "code",
      "source": [
        "#5.  Write a program to demonstrate encapsulation by creating a class BankAccount with private attributes balance and methods to deposit, withdraw, and check balance.\n",
        "\n",
        "class BankAccount:\n",
        "    def __init__(self, balance=0):\n",
        "        self.__balance = balance\n",
        "\n",
        "    def deposit(self, amount):\n",
        "        if amount > 0: self.__balance += amount\n",
        "\n",
        "    def withdraw(self, amount):\n",
        "        if 0 < amount <= self.__balance: self.__balance -= amount\n",
        "\n",
        "    def check_balance(self):\n",
        "        return self.__balance\n",
        "\n",
        "acct = BankAccount(1000)\n",
        "acct.deposit(250); acct.withdraw(400)\n",
        "print(acct.check_balance())\n"
      ],
      "metadata": {
        "colab": {
          "base_uri": "https://localhost:8080/"
        },
        "id": "2yozOvrMCS6D",
        "outputId": "074ed4b2-b865-4a0c-8170-feb10f5222ae"
      },
      "execution_count": null,
      "outputs": [
        {
          "output_type": "stream",
          "name": "stdout",
          "text": [
            "850\n"
          ]
        }
      ]
    },
    {
      "cell_type": "code",
      "source": [
        "#6.  Demonstrate runtime polymorphism using a method play() in a base class Instrument. Derive classes Guitar and Piano that implement their own version of play().\n",
        "\n",
        "class Instrument:\n",
        "    def play(self): print(\"Instrument playing...\")\n",
        "\n",
        "class Guitar(Instrument):\n",
        "    def play(self): print(\"Strumming the guitar.\")\n",
        "\n",
        "class Piano(Instrument):\n",
        "    def play(self): print(\"Playing the piano.\")\n",
        "\n",
        "for i in (Guitar(), Piano()):\n",
        "    i.play()\n"
      ],
      "metadata": {
        "colab": {
          "base_uri": "https://localhost:8080/"
        },
        "id": "ZVTyXFOeFawF",
        "outputId": "0ca80573-b224-4132-bad4-c271d408f459"
      },
      "execution_count": null,
      "outputs": [
        {
          "output_type": "stream",
          "name": "stdout",
          "text": [
            "Strumming the guitar.\n",
            "Playing the piano.\n"
          ]
        }
      ]
    },
    {
      "cell_type": "code",
      "source": [
        "#7. Create a class MathOperations with a class method add_numbers() to add two numbers and a static method subtract_numbers() to subtract two numbers.\n",
        "\n",
        "class MathOperations:\n",
        "    @classmethod\n",
        "    def add_numbers(cls, a, b): return a + b\n",
        "\n",
        "    @staticmethod\n",
        "    def subtract_numbers(a, b): return a - b\n",
        "\n",
        "print(MathOperations.add_numbers(2, 3))\n",
        "print(MathOperations.subtract_numbers(10, 4))\n"
      ],
      "metadata": {
        "colab": {
          "base_uri": "https://localhost:8080/"
        },
        "id": "V9lYq_66FrLl",
        "outputId": "5bc69109-4d19-488a-b6ff-03434c3453d2"
      },
      "execution_count": null,
      "outputs": [
        {
          "output_type": "stream",
          "name": "stdout",
          "text": [
            "5\n",
            "6\n"
          ]
        }
      ]
    },
    {
      "cell_type": "code",
      "source": [
        "#8. Implement a class Person with a class method to count the total number of persons created.\n",
        "\n",
        "class Person:\n",
        "    _count = 0\n",
        "    def __init__(self, name):\n",
        "        self.name = name\n",
        "        Person._count += 1\n",
        "\n",
        "    @classmethod\n",
        "    def total_created(cls): return cls._count\n",
        "\n",
        "p1 = Person(\"A\"); p2 = Person(\"B\")\n",
        "print(Person.total_created())\n"
      ],
      "metadata": {
        "colab": {
          "base_uri": "https://localhost:8080/"
        },
        "id": "YokS34ziF4Ym",
        "outputId": "d0531e25-9283-4382-a9ef-d10acbf04088"
      },
      "execution_count": null,
      "outputs": [
        {
          "output_type": "stream",
          "name": "stdout",
          "text": [
            "2\n"
          ]
        }
      ]
    },
    {
      "cell_type": "code",
      "source": [
        "#9. Write a class Fraction with attributes numerator and denominator. Override the str method to display the fraction as \"numerator/denominator\".\n",
        "\n",
        "class Fraction:\n",
        "    def __init__(self, num, den):\n",
        "        if den == 0: raise ValueError(\"Denominator cannot be zero\")\n",
        "        self.num, self.den = num, den\n",
        "    def __str__(self): return f\"{self.num}/{self.den}\"\n",
        "\n",
        "print(str(Fraction(3, 4)))\n"
      ],
      "metadata": {
        "colab": {
          "base_uri": "https://localhost:8080/"
        },
        "id": "s8nzeQhIGMc7",
        "outputId": "2edfeb24-4b0a-42a2-ad0d-89d0fe42ac46"
      },
      "execution_count": null,
      "outputs": [
        {
          "output_type": "stream",
          "name": "stdout",
          "text": [
            "3/4\n"
          ]
        }
      ]
    },
    {
      "cell_type": "code",
      "source": [
        "#10. Demonstrate operator overloading by creating a class Vector and overriding the add method to add two vectors.\n",
        "\n",
        "class Vector:\n",
        "    def __init__(self, x, y): self.x, self.y = x, y\n",
        "    def __add__(self, other):\n",
        "        if not isinstance(other, Vector): return NotImplemented\n",
        "        return Vector(self.x + other.x, self.y + other.y)\n",
        "    def __repr__(self): return f\"Vector({self.x}, {self.y})\"\n",
        "\n",
        "print(Vector(1, 2) + Vector(3, 4))\n"
      ],
      "metadata": {
        "colab": {
          "base_uri": "https://localhost:8080/"
        },
        "id": "m3Fc1VkoGeeA",
        "outputId": "94b5d0bc-36e6-49f7-d440-7f41fdc02138"
      },
      "execution_count": null,
      "outputs": [
        {
          "output_type": "stream",
          "name": "stdout",
          "text": [
            "Vector(4, 6)\n"
          ]
        }
      ]
    },
    {
      "cell_type": "code",
      "source": [
        "#11. Create a class Person with attributes name and age. Add a method greet() that prints \"Hello, my name is {name} and I am {age} years old.\"\n",
        "\n",
        "class Person:\n",
        "    def __init__(self, name, age): self.name, self.age = name, age\n",
        "    def greet(self):\n",
        "        print(f\"Hello, my name is {self.name} and I am {self.age} years old.\")\n",
        "\n",
        "Person(\"Kaveri\", 21).greet()"
      ],
      "metadata": {
        "colab": {
          "base_uri": "https://localhost:8080/"
        },
        "id": "5P_3aoPuGtS6",
        "outputId": "28b4261f-6050-403b-cdcd-834a35d284d6"
      },
      "execution_count": null,
      "outputs": [
        {
          "output_type": "stream",
          "name": "stdout",
          "text": [
            "Hello, my name is Kaveri and I am 21 years old.\n"
          ]
        }
      ]
    },
    {
      "cell_type": "code",
      "source": [
        "#12. Implement a class Student with attributes name and grades. Create a method average_grade() to compute the average of the grades.\n",
        "\n",
        "class Student:\n",
        "    def __init__(self, name, grades):\n",
        "        self.name, self.grades = name, list(grades)\n",
        "    def average_grade(self):\n",
        "        return sum(self.grades) / len(self.grades) if self.grades else 0.0\n",
        "\n",
        "print(Student(\"A\", [80, 90, 100]).average_grade())\n"
      ],
      "metadata": {
        "colab": {
          "base_uri": "https://localhost:8080/"
        },
        "id": "lNVZwdDsHJR-",
        "outputId": "4c41fe85-f531-48bf-9f40-886055f65760"
      },
      "execution_count": null,
      "outputs": [
        {
          "output_type": "stream",
          "name": "stdout",
          "text": [
            "90.0\n"
          ]
        }
      ]
    },
    {
      "cell_type": "code",
      "source": [
        "#13. Create a class Rectangle with methods set_dimensions() to set the dimensions and area() to calculate the area.\n",
        "\n",
        "class Rectangle:\n",
        "    def set_dimensions (self, w, h):\n",
        "        self.w, self.h = w, h\n",
        "        return self  # enables chaining if desired\n",
        "    def area(self): return self.w * self.h\n",
        "\n",
        "print(Rectangle().set_dimensions(5, 7).area())\n"
      ],
      "metadata": {
        "colab": {
          "base_uri": "https://localhost:8080/"
        },
        "id": "c3wtbN-tHY2B",
        "outputId": "dfba5c7a-9832-48ee-f776-2bfc5fd5117d"
      },
      "execution_count": null,
      "outputs": [
        {
          "output_type": "stream",
          "name": "stdout",
          "text": [
            "35\n"
          ]
        }
      ]
    },
    {
      "cell_type": "code",
      "source": [
        "#14. Create a class Employee with a method calculate_salary() that computes the salary based on hours worked and hourly rate. Create a derived class Manager that adds a bonus to the salary\n",
        "\n",
        "class Employee:\n",
        "    def calculate_salary(self, hours_worked, hourly_rate):\n",
        "        return hours_worked * hourly_rate\n",
        "\n",
        "class Manager(Employee):\n",
        "    def calculate_salary(self, hours_worked, hourly_rate, bonus=0):\n",
        "        base = super().calculate_salary(hours_worked, hourly_rate)\n",
        "        return base + bonus\n",
        "\n",
        "print(Employee().calculate_salary(40, 20))\n",
        "print(Manager().calculate_salary(40, 30, bonus=500))\n"
      ],
      "metadata": {
        "colab": {
          "base_uri": "https://localhost:8080/"
        },
        "id": "FpZLkWYqIDSS",
        "outputId": "7ae1418b-41c6-42e7-bbb8-136407f89d55"
      },
      "execution_count": null,
      "outputs": [
        {
          "output_type": "stream",
          "name": "stdout",
          "text": [
            "800\n",
            "1700\n"
          ]
        }
      ]
    },
    {
      "cell_type": "code",
      "source": [
        "#15. Create a class Product with attributes name, price, and quantity. Implement a method total_price() that calculates the total price of the product.\n",
        "\n",
        "class Product:\n",
        "    def __init__(self, name, price, quantity):\n",
        "        self.name, self.price, self.quantity = name, price, quantity\n",
        "    def total_price(self): return self.price * self.quantity\n",
        "\n",
        "print(Product(\"Pen\", 10.0, 3).total_price())\n"
      ],
      "metadata": {
        "colab": {
          "base_uri": "https://localhost:8080/"
        },
        "id": "IdXVaw0EIP1H",
        "outputId": "63a3247f-13aa-4735-ff29-72aaff4a06f8"
      },
      "execution_count": null,
      "outputs": [
        {
          "output_type": "stream",
          "name": "stdout",
          "text": [
            "30.0\n"
          ]
        }
      ]
    },
    {
      "cell_type": "code",
      "source": [
        "#16. Create a class Animal with an abstract method sound(). Create two derived classes Cow and Sheep that implement the sound() method.\n",
        "\n",
        "from abc import ABC, abstractmethod\n",
        "\n",
        "class Animal(ABC):\n",
        "    @abstractmethod\n",
        "    def sound(self): ...\n",
        "\n",
        "class Cow(Animal):\n",
        "    def sound(self): return \"Moo\"\n",
        "\n",
        "class Sheep(Animal):\n",
        "    def sound(self): return \"Baa\"\n",
        "\n",
        "for a in (Cow(), Sheep()):\n",
        "    print(a.sound())\n"
      ],
      "metadata": {
        "colab": {
          "base_uri": "https://localhost:8080/"
        },
        "id": "EsNnQUMdIjG7",
        "outputId": "3a8afc45-3f68-4c03-9661-0cbde8b03e5e"
      },
      "execution_count": null,
      "outputs": [
        {
          "output_type": "stream",
          "name": "stdout",
          "text": [
            "Moo\n",
            "Baa\n"
          ]
        }
      ]
    },
    {
      "cell_type": "code",
      "source": [
        "#17. Create a class Book with attributes title, author, and year_published. Add a method get_book_info() that\n",
        "returns a formatted string with the book's details.\n",
        "\n",
        "class Book:\n",
        "    def __init__(self, title, author, year_published):\n",
        "        self.title, self.author, self.year_published = title, author, year_published\n",
        "    def get_book_info(self):\n",
        "        return f\"'{self.title}' by {self.author} ({self.year_published})\"\n",
        "\n",
        "print(Book(\"Clean Code\", \"Robert C. Martin\", 2008).get_book_info())\n"
      ],
      "metadata": {
        "colab": {
          "base_uri": "https://localhost:8080/"
        },
        "id": "qfp5dC1nIvhq",
        "outputId": "61300cdb-6106-4a9e-e6a0-16b0eabe353c"
      },
      "execution_count": null,
      "outputs": [
        {
          "output_type": "stream",
          "name": "stdout",
          "text": [
            "'Clean Code' by Robert C. Martin (2008)\n"
          ]
        }
      ]
    },
    {
      "cell_type": "code",
      "source": [
        "#18. Create a class House with attributes address and price. Create a derived class Mansion that adds an attribute number_of_rooms.\n",
        "\n",
        "class House:\n",
        "    def __init__(self, address, price):\n",
        "        self.address, self.price = address, price\n",
        "\n",
        "class Mansion(House):\n",
        "    def __init__(self, address, price, number_of_rooms):\n",
        "        super().__init__(address, price)\n",
        "        self.number_of_rooms = number_of_rooms\n",
        "\n",
        "m = Mansion(\"221B Baker Street\", 5_000_000, 20)\n",
        "print(m.address, m.price, m.number_of_rooms)\n"
      ],
      "metadata": {
        "colab": {
          "base_uri": "https://localhost:8080/"
        },
        "id": "6CPmIpHRIw3t",
        "outputId": "703f558e-a8a0-416f-9a0d-5db339b7d625"
      },
      "execution_count": null,
      "outputs": [
        {
          "output_type": "stream",
          "name": "stdout",
          "text": [
            "221B Baker Street 5000000 20\n"
          ]
        }
      ]
    }
  ]
}